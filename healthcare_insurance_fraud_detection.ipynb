{
 "cells": [
  {
   "cell_type": "markdown",
   "metadata": {},
   "source": [
    "# Fraud Detection for Healthcare Insurance\n",
    "\n",
    "### *Problem:* \n",
    "*  How can we predict healthcare fraud using machine learning?\n",
    "* Healthcare insurance fraud leads to billions in losses annually.\n",
    "* *Fraud Types*:\n",
    "    * Billing for services not provided.\n",
    "    * Inflated bills or duplicate claims\n",
    "    * Flasified patient records\n",
    "    * Unnecessary procedure or prescriptions.\n",
    "\n",
    "\n",
    "### *Solution*:\n",
    "* Build a system using anomaly detection (e.g., DBSCAN, Isolation Forest) and machine learning(e.g, XGB) to identify fraudulent claims and abnormal patterns.\n",
    "\n",
    "### *Features*:\n",
    "* Automatically flag suspicious activities for review.\n",
    "* Minimize false positive to avoid unnecessary investigations.\n",
    "* Visualize claim trends and deviations.\n",
    "* Ensure compliance with data privacy laws.\n",
    "\n",
    "\n",
    "### Identify Metrics:\n",
    "* Accuracy, precision, Recall, F1 Score for the fraud detecion model.\n",
    "* Reduction in investigation costs and fraus losses.\n",
    "\n"
   ]
  },
  {
   "cell_type": "markdown",
   "metadata": {},
   "source": [
    "# Import Libraries"
   ]
  },
  {
   "cell_type": "code",
   "execution_count": 1,
   "metadata": {},
   "outputs": [],
   "source": [
    "import pandas as pd\n",
    "import matplotlib.pyplot as plt\n",
    "import numpy as np\n",
    "from src.utlis import generate_synthetic_data, add_missing_values_denied_claims\n"
   ]
  },
  {
   "cell_type": "markdown",
   "metadata": {},
   "source": [
    "## Synthetic data used here to generate the dataset for this problem"
   ]
  },
  {
   "cell_type": "code",
   "execution_count": 2,
   "metadata": {},
   "outputs": [],
   "source": [
    "# synthetic data generation function\n",
    "data = generate_synthetic_data(5000)\n"
   ]
  },
  {
   "cell_type": "code",
   "execution_count": 3,
   "metadata": {},
   "outputs": [
    {
     "data": {
      "text/html": [
       "<div>\n",
       "<style scoped>\n",
       "    .dataframe tbody tr th:only-of-type {\n",
       "        vertical-align: middle;\n",
       "    }\n",
       "\n",
       "    .dataframe tbody tr th {\n",
       "        vertical-align: top;\n",
       "    }\n",
       "\n",
       "    .dataframe thead th {\n",
       "        text-align: right;\n",
       "    }\n",
       "</style>\n",
       "<table border=\"1\" class=\"dataframe\">\n",
       "  <thead>\n",
       "    <tr style=\"text-align: right;\">\n",
       "      <th></th>\n",
       "      <th>Claim ID</th>\n",
       "      <th>Claim Amount</th>\n",
       "      <th>Procedure Code</th>\n",
       "      <th>Service Date</th>\n",
       "      <th>Claim Status</th>\n",
       "      <th>Patient ID</th>\n",
       "      <th>Age</th>\n",
       "      <th>Gender</th>\n",
       "      <th>Location</th>\n",
       "      <th>Medical History</th>\n",
       "      <th>...</th>\n",
       "      <th>Provider ID</th>\n",
       "      <th>Specialization</th>\n",
       "      <th>Provider Location</th>\n",
       "      <th>Reputation Score</th>\n",
       "      <th>Payment Method</th>\n",
       "      <th>Time Between Claims</th>\n",
       "      <th>Cost Deviation</th>\n",
       "      <th>Suspicious Timing</th>\n",
       "      <th>Duplicate Claims</th>\n",
       "      <th>Fraudulent</th>\n",
       "    </tr>\n",
       "  </thead>\n",
       "  <tbody>\n",
       "    <tr>\n",
       "      <th>0</th>\n",
       "      <td>cef37d58</td>\n",
       "      <td>59615.656143</td>\n",
       "      <td>99282</td>\n",
       "      <td>2024-01-24</td>\n",
       "      <td>Approved</td>\n",
       "      <td>20882</td>\n",
       "      <td>66</td>\n",
       "      <td>Male</td>\n",
       "      <td>South Patrickview</td>\n",
       "      <td>Hypertension</td>\n",
       "      <td>...</td>\n",
       "      <td>60441</td>\n",
       "      <td>Emergency Medicine</td>\n",
       "      <td>South Amandaborough</td>\n",
       "      <td>3.86</td>\n",
       "      <td>Debit Card</td>\n",
       "      <td>64</td>\n",
       "      <td>2.592744</td>\n",
       "      <td>0</td>\n",
       "      <td>0</td>\n",
       "      <td>0</td>\n",
       "    </tr>\n",
       "    <tr>\n",
       "      <th>1</th>\n",
       "      <td>11a7a4d8</td>\n",
       "      <td>10514.185793</td>\n",
       "      <td>11042</td>\n",
       "      <td>2020-03-04</td>\n",
       "      <td>Under Review</td>\n",
       "      <td>98919</td>\n",
       "      <td>62</td>\n",
       "      <td>Male</td>\n",
       "      <td>South Christinaville</td>\n",
       "      <td>None</td>\n",
       "      <td>...</td>\n",
       "      <td>17172</td>\n",
       "      <td>Cardiology</td>\n",
       "      <td>Lake Jennifer</td>\n",
       "      <td>2.44</td>\n",
       "      <td>Cash</td>\n",
       "      <td>20</td>\n",
       "      <td>2.038836</td>\n",
       "      <td>0</td>\n",
       "      <td>0</td>\n",
       "      <td>0</td>\n",
       "    </tr>\n",
       "  </tbody>\n",
       "</table>\n",
       "<p>2 rows × 21 columns</p>\n",
       "</div>"
      ],
      "text/plain": [
       "   Claim ID  Claim Amount Procedure Code Service Date  Claim Status  \\\n",
       "0  cef37d58  59615.656143          99282   2024-01-24      Approved   \n",
       "1  11a7a4d8  10514.185793          11042   2020-03-04  Under Review   \n",
       "\n",
       "   Patient ID  Age Gender              Location Medical History  ...  \\\n",
       "0       20882   66   Male     South Patrickview    Hypertension  ...   \n",
       "1       98919   62   Male  South Christinaville            None  ...   \n",
       "\n",
       "  Provider ID      Specialization    Provider Location Reputation Score  \\\n",
       "0       60441  Emergency Medicine  South Amandaborough             3.86   \n",
       "1       17172          Cardiology        Lake Jennifer             2.44   \n",
       "\n",
       "   Payment Method Time Between Claims  Cost Deviation  Suspicious Timing  \\\n",
       "0      Debit Card                  64        2.592744                  0   \n",
       "1            Cash                  20        2.038836                  0   \n",
       "\n",
       "   Duplicate Claims  Fraudulent  \n",
       "0                 0           0  \n",
       "1                 0           0  \n",
       "\n",
       "[2 rows x 21 columns]"
      ]
     },
     "execution_count": 3,
     "metadata": {},
     "output_type": "execute_result"
    }
   ],
   "source": [
    "\n",
    "#display head of data\n",
    "data.head(2)"
   ]
  },
  {
   "cell_type": "markdown",
   "metadata": {},
   "source": [
    "## Adding '_' in columns name to"
   ]
  },
  {
   "cell_type": "code",
   "execution_count": 4,
   "metadata": {},
   "outputs": [
    {
     "data": {
      "text/plain": [
       "Index(['Claim ID', 'Claim Amount', 'Procedure Code', 'Service Date',\n",
       "       'Claim Status', 'Patient ID', 'Age', 'Gender', 'Location',\n",
       "       'Medical History', 'Insurance Plan', 'Provider ID', 'Specialization',\n",
       "       'Provider Location', 'Reputation Score', 'Payment Method',\n",
       "       'Time Between Claims', 'Cost Deviation', 'Suspicious Timing',\n",
       "       'Duplicate Claims', 'Fraudulent'],\n",
       "      dtype='object')"
      ]
     },
     "execution_count": 4,
     "metadata": {},
     "output_type": "execute_result"
    }
   ],
   "source": [
    "\n",
    "data.columns"
   ]
  },
  {
   "cell_type": "code",
   "execution_count": 5,
   "metadata": {},
   "outputs": [
    {
     "data": {
      "text/plain": [
       "Index(['Claim_ID', 'Claim_Amount', 'Procedure_Code', 'Service_Date',\n",
       "       'Claim_Status', 'Patient_ID', 'Age', 'Gender', 'Location',\n",
       "       'Medical_History', 'Insurance_Plan', 'Provider_ID', 'Specialization',\n",
       "       'Provider_Location', 'Reputation_Score', 'Payment_Method',\n",
       "       'Time_Between_Claims', 'Cost_Deviation', 'Suspicious_Timing',\n",
       "       'Duplicate_Claims', 'Fraudulent'],\n",
       "      dtype='object')"
      ]
     },
     "execution_count": 5,
     "metadata": {},
     "output_type": "execute_result"
    }
   ],
   "source": [
    "data.columns = [col.replace(' ', '_') for col in data.columns]\n",
    "data.columns"
   ]
  },
  {
   "cell_type": "code",
   "execution_count": 6,
   "metadata": {},
   "outputs": [
    {
     "data": {
      "text/html": [
       "<div>\n",
       "<style scoped>\n",
       "    .dataframe tbody tr th:only-of-type {\n",
       "        vertical-align: middle;\n",
       "    }\n",
       "\n",
       "    .dataframe tbody tr th {\n",
       "        vertical-align: top;\n",
       "    }\n",
       "\n",
       "    .dataframe thead th {\n",
       "        text-align: right;\n",
       "    }\n",
       "</style>\n",
       "<table border=\"1\" class=\"dataframe\">\n",
       "  <thead>\n",
       "    <tr style=\"text-align: right;\">\n",
       "      <th></th>\n",
       "      <th>Claim_ID</th>\n",
       "      <th>Claim_Amount</th>\n",
       "      <th>Procedure_Code</th>\n",
       "      <th>Service_Date</th>\n",
       "      <th>Claim_Status</th>\n",
       "      <th>Patient_ID</th>\n",
       "      <th>Age</th>\n",
       "      <th>Gender</th>\n",
       "      <th>Location</th>\n",
       "      <th>Medical_History</th>\n",
       "      <th>...</th>\n",
       "      <th>Provider_ID</th>\n",
       "      <th>Specialization</th>\n",
       "      <th>Provider_Location</th>\n",
       "      <th>Reputation_Score</th>\n",
       "      <th>Payment_Method</th>\n",
       "      <th>Time_Between_Claims</th>\n",
       "      <th>Cost_Deviation</th>\n",
       "      <th>Suspicious_Timing</th>\n",
       "      <th>Duplicate_Claims</th>\n",
       "      <th>Fraudulent</th>\n",
       "    </tr>\n",
       "  </thead>\n",
       "  <tbody>\n",
       "    <tr>\n",
       "      <th>2</th>\n",
       "      <td>34dcf268</td>\n",
       "      <td>NaN</td>\n",
       "      <td>99283</td>\n",
       "      <td>2024-01-02</td>\n",
       "      <td>Denied</td>\n",
       "      <td>25694</td>\n",
       "      <td>47</td>\n",
       "      <td>Female</td>\n",
       "      <td>Allenland</td>\n",
       "      <td>Diabetes</td>\n",
       "      <td>...</td>\n",
       "      <td>47939</td>\n",
       "      <td>Orthopedics</td>\n",
       "      <td>West Jason</td>\n",
       "      <td>4.40</td>\n",
       "      <td>Debit Card</td>\n",
       "      <td>340</td>\n",
       "      <td>1.830989</td>\n",
       "      <td>0</td>\n",
       "      <td>0</td>\n",
       "      <td>0</td>\n",
       "    </tr>\n",
       "    <tr>\n",
       "      <th>4</th>\n",
       "      <td>6f0bfe8d</td>\n",
       "      <td>NaN</td>\n",
       "      <td>99382</td>\n",
       "      <td>2021-06-02</td>\n",
       "      <td>Denied</td>\n",
       "      <td>23811</td>\n",
       "      <td>78</td>\n",
       "      <td>Male</td>\n",
       "      <td>Myersburgh</td>\n",
       "      <td>None</td>\n",
       "      <td>...</td>\n",
       "      <td>34145</td>\n",
       "      <td>Emergency Medicine</td>\n",
       "      <td>North Alexview</td>\n",
       "      <td>4.40</td>\n",
       "      <td>Credit Card</td>\n",
       "      <td>189</td>\n",
       "      <td>2.798629</td>\n",
       "      <td>0</td>\n",
       "      <td>0</td>\n",
       "      <td>0</td>\n",
       "    </tr>\n",
       "    <tr>\n",
       "      <th>5</th>\n",
       "      <td>0e7f62c0</td>\n",
       "      <td>NaN</td>\n",
       "      <td>99282</td>\n",
       "      <td>2024-12-19</td>\n",
       "      <td>Denied</td>\n",
       "      <td>27986</td>\n",
       "      <td>22</td>\n",
       "      <td>Female</td>\n",
       "      <td>North Andreaborough</td>\n",
       "      <td>Diabetes</td>\n",
       "      <td>...</td>\n",
       "      <td>88932</td>\n",
       "      <td>Emergency Medicine</td>\n",
       "      <td>West Alison</td>\n",
       "      <td>3.95</td>\n",
       "      <td>Cash</td>\n",
       "      <td>106</td>\n",
       "      <td>2.360950</td>\n",
       "      <td>0</td>\n",
       "      <td>0</td>\n",
       "      <td>0</td>\n",
       "    </tr>\n",
       "    <tr>\n",
       "      <th>6</th>\n",
       "      <td>bc1860de</td>\n",
       "      <td>NaN</td>\n",
       "      <td>43235</td>\n",
       "      <td>2024-09-11</td>\n",
       "      <td>Denied</td>\n",
       "      <td>59414</td>\n",
       "      <td>85</td>\n",
       "      <td>Female</td>\n",
       "      <td>South Frederick</td>\n",
       "      <td>Asthama</td>\n",
       "      <td>...</td>\n",
       "      <td>67091</td>\n",
       "      <td>Orthopedics</td>\n",
       "      <td>South Patriciaberg</td>\n",
       "      <td>1.12</td>\n",
       "      <td>Cash</td>\n",
       "      <td>248</td>\n",
       "      <td>0.979096</td>\n",
       "      <td>0</td>\n",
       "      <td>0</td>\n",
       "      <td>0</td>\n",
       "    </tr>\n",
       "    <tr>\n",
       "      <th>8</th>\n",
       "      <td>a0c0d79b</td>\n",
       "      <td>NaN</td>\n",
       "      <td>99282</td>\n",
       "      <td>2020-11-26</td>\n",
       "      <td>Denied</td>\n",
       "      <td>29531</td>\n",
       "      <td>23</td>\n",
       "      <td>Male</td>\n",
       "      <td>North Peter</td>\n",
       "      <td>Diabetes</td>\n",
       "      <td>...</td>\n",
       "      <td>60649</td>\n",
       "      <td>Dermatology</td>\n",
       "      <td>East Jorge</td>\n",
       "      <td>3.18</td>\n",
       "      <td>Debit Card</td>\n",
       "      <td>353</td>\n",
       "      <td>1.659977</td>\n",
       "      <td>0</td>\n",
       "      <td>0</td>\n",
       "      <td>0</td>\n",
       "    </tr>\n",
       "  </tbody>\n",
       "</table>\n",
       "<p>5 rows × 21 columns</p>\n",
       "</div>"
      ],
      "text/plain": [
       "   Claim_ID  Claim_Amount Procedure_Code Service_Date Claim_Status  \\\n",
       "2  34dcf268           NaN          99283   2024-01-02       Denied   \n",
       "4  6f0bfe8d           NaN          99382   2021-06-02       Denied   \n",
       "5  0e7f62c0           NaN          99282   2024-12-19       Denied   \n",
       "6  bc1860de           NaN          43235   2024-09-11       Denied   \n",
       "8  a0c0d79b           NaN          99282   2020-11-26       Denied   \n",
       "\n",
       "   Patient_ID  Age  Gender             Location Medical_History  ...  \\\n",
       "2       25694   47  Female            Allenland        Diabetes  ...   \n",
       "4       23811   78    Male           Myersburgh            None  ...   \n",
       "5       27986   22  Female  North Andreaborough        Diabetes  ...   \n",
       "6       59414   85  Female      South Frederick         Asthama  ...   \n",
       "8       29531   23    Male          North Peter        Diabetes  ...   \n",
       "\n",
       "  Provider_ID      Specialization   Provider_Location Reputation_Score  \\\n",
       "2       47939         Orthopedics          West Jason             4.40   \n",
       "4       34145  Emergency Medicine      North Alexview             4.40   \n",
       "5       88932  Emergency Medicine         West Alison             3.95   \n",
       "6       67091         Orthopedics  South Patriciaberg             1.12   \n",
       "8       60649         Dermatology          East Jorge             3.18   \n",
       "\n",
       "   Payment_Method Time_Between_Claims  Cost_Deviation  Suspicious_Timing  \\\n",
       "2      Debit Card                 340        1.830989                  0   \n",
       "4     Credit Card                 189        2.798629                  0   \n",
       "5            Cash                 106        2.360950                  0   \n",
       "6            Cash                 248        0.979096                  0   \n",
       "8      Debit Card                 353        1.659977                  0   \n",
       "\n",
       "   Duplicate_Claims  Fraudulent  \n",
       "2                 0           0  \n",
       "4                 0           0  \n",
       "5                 0           0  \n",
       "6                 0           0  \n",
       "8                 0           0  \n",
       "\n",
       "[5 rows x 21 columns]"
      ]
     },
     "execution_count": 6,
     "metadata": {},
     "output_type": "execute_result"
    }
   ],
   "source": [
    "# # create missing values in data set\n",
    "\n",
    "data = add_missing_values_denied_claims(data)\n",
    "data[data['Claim_Status'] =='Denied'].head()"
   ]
  },
  {
   "cell_type": "code",
   "execution_count": 7,
   "metadata": {},
   "outputs": [
    {
     "name": "stdout",
     "output_type": "stream",
     "text": [
      "Data saved successfully to output_data.csv!\n"
     ]
    }
   ],
   "source": [
    "# Save the data\n",
    "\n",
    "data.to_csv(\"data/fraud_insurance_claim.csv\", index=False)\n",
    "print(\"Data saved successfully to output_data.csv!\")"
   ]
  },
  {
   "cell_type": "markdown",
   "metadata": {},
   "source": [
    "## Exploratory Analysis"
   ]
  },
  {
   "cell_type": "code",
   "execution_count": 8,
   "metadata": {},
   "outputs": [
    {
     "name": "stdout",
     "output_type": "stream",
     "text": [
      "<class 'pandas.core.frame.DataFrame'>\n",
      "RangeIndex: 5000 entries, 0 to 4999\n",
      "Data columns (total 21 columns):\n",
      " #   Column               Non-Null Count  Dtype  \n",
      "---  ------               --------------  -----  \n",
      " 0   Claim_ID             5000 non-null   object \n",
      " 1   Claim_Amount         3261 non-null   float64\n",
      " 2   Procedure_Code       5000 non-null   object \n",
      " 3   Service_Date         5000 non-null   object \n",
      " 4   Claim_Status         5000 non-null   object \n",
      " 5   Patient_ID           5000 non-null   int64  \n",
      " 6   Age                  5000 non-null   int64  \n",
      " 7   Gender               5000 non-null   object \n",
      " 8   Location             5000 non-null   object \n",
      " 9   Medical_History      5000 non-null   object \n",
      " 10  Insurance_Plan       5000 non-null   object \n",
      " 11  Provider_ID          5000 non-null   int64  \n",
      " 12  Specialization       5000 non-null   object \n",
      " 13  Provider_Location    5000 non-null   object \n",
      " 14  Reputation_Score     5000 non-null   float64\n",
      " 15  Payment_Method       5000 non-null   object \n",
      " 16  Time_Between_Claims  5000 non-null   int64  \n",
      " 17  Cost_Deviation       5000 non-null   float64\n",
      " 18  Suspicious_Timing    5000 non-null   int64  \n",
      " 19  Duplicate_Claims     5000 non-null   int64  \n",
      " 20  Fraudulent           5000 non-null   int64  \n",
      "dtypes: float64(3), int64(7), object(11)\n",
      "memory usage: 820.4+ KB\n"
     ]
    }
   ],
   "source": [
    "data.info()"
   ]
  },
  {
   "cell_type": "code",
   "execution_count": 9,
   "metadata": {},
   "outputs": [
    {
     "data": {
      "text/html": [
       "<div>\n",
       "<style scoped>\n",
       "    .dataframe tbody tr th:only-of-type {\n",
       "        vertical-align: middle;\n",
       "    }\n",
       "\n",
       "    .dataframe tbody tr th {\n",
       "        vertical-align: top;\n",
       "    }\n",
       "\n",
       "    .dataframe thead th {\n",
       "        text-align: right;\n",
       "    }\n",
       "</style>\n",
       "<table border=\"1\" class=\"dataframe\">\n",
       "  <thead>\n",
       "    <tr style=\"text-align: right;\">\n",
       "      <th></th>\n",
       "      <th>Claim_Amount</th>\n",
       "      <th>Patient_ID</th>\n",
       "      <th>Age</th>\n",
       "      <th>Provider_ID</th>\n",
       "      <th>Reputation_Score</th>\n",
       "      <th>Time_Between_Claims</th>\n",
       "      <th>Cost_Deviation</th>\n",
       "      <th>Suspicious_Timing</th>\n",
       "      <th>Duplicate_Claims</th>\n",
       "      <th>Fraudulent</th>\n",
       "    </tr>\n",
       "  </thead>\n",
       "  <tbody>\n",
       "    <tr>\n",
       "      <th>count</th>\n",
       "      <td>3261.000000</td>\n",
       "      <td>5000.000000</td>\n",
       "      <td>5000.000000</td>\n",
       "      <td>5000.000000</td>\n",
       "      <td>5000.000000</td>\n",
       "      <td>5000.000000</td>\n",
       "      <td>5000.000000</td>\n",
       "      <td>5000.000000</td>\n",
       "      <td>5000.000000</td>\n",
       "      <td>5000.000000</td>\n",
       "    </tr>\n",
       "    <tr>\n",
       "      <th>mean</th>\n",
       "      <td>44318.173752</td>\n",
       "      <td>54875.579600</td>\n",
       "      <td>53.957000</td>\n",
       "      <td>54290.157200</td>\n",
       "      <td>3.287454</td>\n",
       "      <td>176.387600</td>\n",
       "      <td>1.986268</td>\n",
       "      <td>0.006000</td>\n",
       "      <td>0.001600</td>\n",
       "      <td>0.006000</td>\n",
       "    </tr>\n",
       "    <tr>\n",
       "      <th>std</th>\n",
       "      <td>62017.537754</td>\n",
       "      <td>25902.712596</td>\n",
       "      <td>21.283029</td>\n",
       "      <td>26020.541011</td>\n",
       "      <td>1.173157</td>\n",
       "      <td>110.741118</td>\n",
       "      <td>0.457664</td>\n",
       "      <td>0.077235</td>\n",
       "      <td>0.039972</td>\n",
       "      <td>0.077235</td>\n",
       "    </tr>\n",
       "    <tr>\n",
       "      <th>min</th>\n",
       "      <td>1000.000000</td>\n",
       "      <td>10019.000000</td>\n",
       "      <td>1.000000</td>\n",
       "      <td>10015.000000</td>\n",
       "      <td>1.000000</td>\n",
       "      <td>0.000000</td>\n",
       "      <td>0.830576</td>\n",
       "      <td>0.000000</td>\n",
       "      <td>0.000000</td>\n",
       "      <td>0.000000</td>\n",
       "    </tr>\n",
       "    <tr>\n",
       "      <th>25%</th>\n",
       "      <td>6678.717538</td>\n",
       "      <td>32321.250000</td>\n",
       "      <td>36.000000</td>\n",
       "      <td>31844.000000</td>\n",
       "      <td>2.277500</td>\n",
       "      <td>80.000000</td>\n",
       "      <td>1.673953</td>\n",
       "      <td>0.000000</td>\n",
       "      <td>0.000000</td>\n",
       "      <td>0.000000</td>\n",
       "    </tr>\n",
       "    <tr>\n",
       "      <th>50%</th>\n",
       "      <td>34541.085380</td>\n",
       "      <td>54470.500000</td>\n",
       "      <td>54.000000</td>\n",
       "      <td>53850.000000</td>\n",
       "      <td>3.580000</td>\n",
       "      <td>177.000000</td>\n",
       "      <td>2.010897</td>\n",
       "      <td>0.000000</td>\n",
       "      <td>0.000000</td>\n",
       "      <td>0.000000</td>\n",
       "    </tr>\n",
       "    <tr>\n",
       "      <th>75%</th>\n",
       "      <td>67074.121106</td>\n",
       "      <td>77598.750000</td>\n",
       "      <td>72.000000</td>\n",
       "      <td>76519.750000</td>\n",
       "      <td>4.290000</td>\n",
       "      <td>275.000000</td>\n",
       "      <td>2.330198</td>\n",
       "      <td>0.000000</td>\n",
       "      <td>0.000000</td>\n",
       "      <td>0.000000</td>\n",
       "    </tr>\n",
       "    <tr>\n",
       "      <th>max</th>\n",
       "      <td>820962.635109</td>\n",
       "      <td>99983.000000</td>\n",
       "      <td>100.000000</td>\n",
       "      <td>99970.000000</td>\n",
       "      <td>5.000000</td>\n",
       "      <td>365.000000</td>\n",
       "      <td>2.979049</td>\n",
       "      <td>1.000000</td>\n",
       "      <td>1.000000</td>\n",
       "      <td>1.000000</td>\n",
       "    </tr>\n",
       "  </tbody>\n",
       "</table>\n",
       "</div>"
      ],
      "text/plain": [
       "        Claim_Amount    Patient_ID          Age   Provider_ID  \\\n",
       "count    3261.000000   5000.000000  5000.000000   5000.000000   \n",
       "mean    44318.173752  54875.579600    53.957000  54290.157200   \n",
       "std     62017.537754  25902.712596    21.283029  26020.541011   \n",
       "min      1000.000000  10019.000000     1.000000  10015.000000   \n",
       "25%      6678.717538  32321.250000    36.000000  31844.000000   \n",
       "50%     34541.085380  54470.500000    54.000000  53850.000000   \n",
       "75%     67074.121106  77598.750000    72.000000  76519.750000   \n",
       "max    820962.635109  99983.000000   100.000000  99970.000000   \n",
       "\n",
       "       Reputation_Score  Time_Between_Claims  Cost_Deviation  \\\n",
       "count       5000.000000          5000.000000     5000.000000   \n",
       "mean           3.287454           176.387600        1.986268   \n",
       "std            1.173157           110.741118        0.457664   \n",
       "min            1.000000             0.000000        0.830576   \n",
       "25%            2.277500            80.000000        1.673953   \n",
       "50%            3.580000           177.000000        2.010897   \n",
       "75%            4.290000           275.000000        2.330198   \n",
       "max            5.000000           365.000000        2.979049   \n",
       "\n",
       "       Suspicious_Timing  Duplicate_Claims   Fraudulent  \n",
       "count        5000.000000       5000.000000  5000.000000  \n",
       "mean            0.006000          0.001600     0.006000  \n",
       "std             0.077235          0.039972     0.077235  \n",
       "min             0.000000          0.000000     0.000000  \n",
       "25%             0.000000          0.000000     0.000000  \n",
       "50%             0.000000          0.000000     0.000000  \n",
       "75%             0.000000          0.000000     0.000000  \n",
       "max             1.000000          1.000000     1.000000  "
      ]
     },
     "execution_count": 9,
     "metadata": {},
     "output_type": "execute_result"
    }
   ],
   "source": [
    "data.describe()"
   ]
  },
  {
   "cell_type": "code",
   "execution_count": 10,
   "metadata": {},
   "outputs": [
    {
     "data": {
      "text/plain": [
       "['Claim_ID',\n",
       " 'Procedure_Code',\n",
       " 'Service_Date',\n",
       " 'Claim_Status',\n",
       " 'Gender',\n",
       " 'Location',\n",
       " 'Medical_History',\n",
       " 'Insurance_Plan',\n",
       " 'Specialization',\n",
       " 'Provider_Location',\n",
       " 'Payment_Method']"
      ]
     },
     "execution_count": 10,
     "metadata": {},
     "output_type": "execute_result"
    }
   ],
   "source": [
    "# get all categorical variables\n",
    "cat_col = [col for col in data.columns if data[col].dtype == 'O']\n",
    "cat_col"
   ]
  },
  {
   "cell_type": "code",
   "execution_count": 11,
   "metadata": {},
   "outputs": [
    {
     "data": {
      "text/plain": [
       "['Patient_ID',\n",
       " 'Age',\n",
       " 'Provider_ID',\n",
       " 'Time_Between_Claims',\n",
       " 'Suspicious_Timing',\n",
       " 'Duplicate_Claims',\n",
       " 'Fraudulent']"
      ]
     },
     "execution_count": 11,
     "metadata": {},
     "output_type": "execute_result"
    }
   ],
   "source": [
    "num_col = [col for col in data.columns if data[col].dtype == 'int']\n",
    "num_col"
   ]
  },
  {
   "cell_type": "code",
   "execution_count": 12,
   "metadata": {},
   "outputs": [
    {
     "name": "stdout",
     "output_type": "stream",
     "text": [
      "Missing Values:\n",
      " Claim_ID                  0\n",
      "Claim_Amount           1739\n",
      "Procedure_Code            0\n",
      "Service_Date              0\n",
      "Claim_Status              0\n",
      "Patient_ID                0\n",
      "Age                       0\n",
      "Gender                    0\n",
      "Location                  0\n",
      "Medical_History           0\n",
      "Insurance_Plan            0\n",
      "Provider_ID               0\n",
      "Specialization            0\n",
      "Provider_Location         0\n",
      "Reputation_Score          0\n",
      "Payment_Method            0\n",
      "Time_Between_Claims       0\n",
      "Cost_Deviation            0\n",
      "Suspicious_Timing         0\n",
      "Duplicate_Claims          0\n",
      "Fraudulent                0\n",
      "dtype: int64\n",
      "\n",
      "\n",
      "Fraudulent Claims:\n",
      " Fraudulent\n",
      "0    4970\n",
      "1      30\n",
      "Name: count, dtype: int64\n"
     ]
    }
   ],
   "source": [
    "# check for missing values\n",
    "print(\"Missing Values:\\n\", data.isnull().sum())\n",
    "print(\"\\n\\nFraudulent Claims:\\n\", data['Fraudulent'].value_counts())"
   ]
  },
  {
   "cell_type": "markdown",
   "metadata": {},
   "source": [
    "0 for Non-fraudulent and 1 for Fraudulent"
   ]
  },
  {
   "cell_type": "code",
   "execution_count": 13,
   "metadata": {},
   "outputs": [
    {
     "data": {
      "text/html": [
       "<div>\n",
       "<style scoped>\n",
       "    .dataframe tbody tr th:only-of-type {\n",
       "        vertical-align: middle;\n",
       "    }\n",
       "\n",
       "    .dataframe tbody tr th {\n",
       "        vertical-align: top;\n",
       "    }\n",
       "\n",
       "    .dataframe thead th {\n",
       "        text-align: right;\n",
       "    }\n",
       "</style>\n",
       "<table border=\"1\" class=\"dataframe\">\n",
       "  <thead>\n",
       "    <tr style=\"text-align: right;\">\n",
       "      <th></th>\n",
       "      <th>Claim_ID</th>\n",
       "      <th>Claim_Amount</th>\n",
       "      <th>Procedure_Code</th>\n",
       "      <th>Service_Date</th>\n",
       "      <th>Claim_Status</th>\n",
       "      <th>Patient_ID</th>\n",
       "      <th>Age</th>\n",
       "      <th>Gender</th>\n",
       "      <th>Location</th>\n",
       "      <th>Medical_History</th>\n",
       "      <th>...</th>\n",
       "      <th>Provider_ID</th>\n",
       "      <th>Specialization</th>\n",
       "      <th>Provider_Location</th>\n",
       "      <th>Reputation_Score</th>\n",
       "      <th>Payment_Method</th>\n",
       "      <th>Time_Between_Claims</th>\n",
       "      <th>Cost_Deviation</th>\n",
       "      <th>Suspicious_Timing</th>\n",
       "      <th>Duplicate_Claims</th>\n",
       "      <th>Fraudulent</th>\n",
       "    </tr>\n",
       "  </thead>\n",
       "  <tbody>\n",
       "    <tr>\n",
       "      <th>2</th>\n",
       "      <td>34dcf268</td>\n",
       "      <td>0.0</td>\n",
       "      <td>99283</td>\n",
       "      <td>2024-01-02</td>\n",
       "      <td>Denied</td>\n",
       "      <td>25694</td>\n",
       "      <td>47</td>\n",
       "      <td>Female</td>\n",
       "      <td>Allenland</td>\n",
       "      <td>Diabetes</td>\n",
       "      <td>...</td>\n",
       "      <td>47939</td>\n",
       "      <td>Orthopedics</td>\n",
       "      <td>West Jason</td>\n",
       "      <td>4.4</td>\n",
       "      <td>Debit Card</td>\n",
       "      <td>340</td>\n",
       "      <td>1.830989</td>\n",
       "      <td>0</td>\n",
       "      <td>0</td>\n",
       "      <td>0</td>\n",
       "    </tr>\n",
       "    <tr>\n",
       "      <th>4</th>\n",
       "      <td>6f0bfe8d</td>\n",
       "      <td>0.0</td>\n",
       "      <td>99382</td>\n",
       "      <td>2021-06-02</td>\n",
       "      <td>Denied</td>\n",
       "      <td>23811</td>\n",
       "      <td>78</td>\n",
       "      <td>Male</td>\n",
       "      <td>Myersburgh</td>\n",
       "      <td>None</td>\n",
       "      <td>...</td>\n",
       "      <td>34145</td>\n",
       "      <td>Emergency Medicine</td>\n",
       "      <td>North Alexview</td>\n",
       "      <td>4.4</td>\n",
       "      <td>Credit Card</td>\n",
       "      <td>189</td>\n",
       "      <td>2.798629</td>\n",
       "      <td>0</td>\n",
       "      <td>0</td>\n",
       "      <td>0</td>\n",
       "    </tr>\n",
       "  </tbody>\n",
       "</table>\n",
       "<p>2 rows × 21 columns</p>\n",
       "</div>"
      ],
      "text/plain": [
       "   Claim_ID  Claim_Amount Procedure_Code Service_Date Claim_Status  \\\n",
       "2  34dcf268           0.0          99283   2024-01-02       Denied   \n",
       "4  6f0bfe8d           0.0          99382   2021-06-02       Denied   \n",
       "\n",
       "   Patient_ID  Age  Gender    Location Medical_History  ... Provider_ID  \\\n",
       "2       25694   47  Female   Allenland        Diabetes  ...       47939   \n",
       "4       23811   78    Male  Myersburgh            None  ...       34145   \n",
       "\n",
       "       Specialization Provider_Location Reputation_Score  Payment_Method  \\\n",
       "2         Orthopedics        West Jason              4.4      Debit Card   \n",
       "4  Emergency Medicine    North Alexview              4.4     Credit Card   \n",
       "\n",
       "  Time_Between_Claims  Cost_Deviation  Suspicious_Timing  Duplicate_Claims  \\\n",
       "2                 340        1.830989                  0                 0   \n",
       "4                 189        2.798629                  0                 0   \n",
       "\n",
       "   Fraudulent  \n",
       "2           0  \n",
       "4           0  \n",
       "\n",
       "[2 rows x 21 columns]"
      ]
     },
     "execution_count": 13,
     "metadata": {},
     "output_type": "execute_result"
    }
   ],
   "source": [
    "# claim_amount has missing values\n",
    "claim_ = data.loc[data['Claim_Amount'].isna(), 'Claim_Status']\n",
    "\n",
    "#fill with zero as the claim is denied hence there will be no claim amount\n",
    "data['Claim_Amount'] = data['Claim_Amount'].fillna(0)\n",
    "# data[data['Claim_Amount'].isna()]\n",
    "\n",
    "data.loc[data['Claim_Amount']==0].head(2)"
   ]
  },
  {
   "cell_type": "code",
   "execution_count": 14,
   "metadata": {},
   "outputs": [],
   "source": [
    "#  COnvert serivce date to datetime \n",
    "\n",
    "data['Service_Date'] = pd.to_datetime(data['Service_Date'])"
   ]
  },
  {
   "cell_type": "code",
   "execution_count": 15,
   "metadata": {},
   "outputs": [
    {
     "name": "stdout",
     "output_type": "stream",
     "text": [
      "Claim_ID:\n",
      "\n",
      "Claim_ID\n",
      "b4820025    1\n",
      "cef37d58    1\n",
      "11a7a4d8    1\n",
      "34dcf268    1\n",
      "aad703b1    1\n",
      "           ..\n",
      "a3beaf22    1\n",
      "258ff10c    1\n",
      "d780c129    1\n",
      "36bbdfe2    1\n",
      "677fc3ea    1\n",
      "Name: count, Length: 5000, dtype: int64\n",
      "Procedure_Code:\n",
      "\n",
      "Procedure_Code\n",
      "99283    527\n",
      "99282    513\n",
      "99285    507\n",
      "99284    498\n",
      "99281    475\n",
      "93000    189\n",
      "99383    185\n",
      "45378    180\n",
      "43235    177\n",
      "71020    175\n",
      "11042    168\n",
      "11730    164\n",
      "99385    164\n",
      "72148    163\n",
      "99382    162\n",
      "99381    158\n",
      "12001    154\n",
      "12051    153\n",
      "10060    147\n",
      "99384    141\n",
      "Name: count, dtype: int64\n",
      "Service_Date:\n",
      "\n",
      "Service_Date\n",
      "2020-10-26    12\n",
      "2022-04-27    10\n",
      "2022-10-21     9\n",
      "2023-06-07     9\n",
      "2024-10-16     8\n",
      "              ..\n",
      "2024-11-23     1\n",
      "2020-04-06     1\n",
      "2023-01-28     1\n",
      "2021-02-20     1\n",
      "2023-09-15     1\n",
      "Name: count, Length: 1721, dtype: int64\n",
      "Claim_Status:\n",
      "\n",
      "Claim_Status\n",
      "Denied          1739\n",
      "Approved        1648\n",
      "Under Review    1613\n",
      "Name: count, dtype: int64\n",
      "Gender:\n",
      "\n",
      "Gender\n",
      "Female    2530\n",
      "Male      2470\n",
      "Name: count, dtype: int64\n",
      "Location:\n",
      "\n",
      "Location\n",
      "West Michael            7\n",
      "Port Kimberly           7\n",
      "North Robert            6\n",
      "West David              6\n",
      "Port Mark               5\n",
      "                       ..\n",
      "New Andrewport          1\n",
      "East Randallburgh       1\n",
      "Garciaborough           1\n",
      "Lynchmouth              1\n",
      "South Christinaville    1\n",
      "Name: count, Length: 4276, dtype: int64\n",
      "Medical_History:\n",
      "\n",
      "Medical_History\n",
      "None            1269\n",
      "Hypertension    1254\n",
      "Asthama         1247\n",
      "Diabetes        1230\n",
      "Name: count, dtype: int64\n",
      "Insurance_Plan:\n",
      "\n",
      "Insurance_Plan\n",
      "Premium     1671\n",
      "Standard    1665\n",
      "Basic       1664\n",
      "Name: count, dtype: int64\n",
      "Specialization:\n",
      "\n",
      "Specialization\n",
      "Emergency Medicine    1268\n",
      "Cardiology            1250\n",
      "Dermatology           1249\n",
      "Orthopedics           1233\n",
      "Name: count, dtype: int64\n",
      "Provider_Location:\n",
      "\n",
      "Provider_Location\n",
      "New Matthew             7\n",
      "West Christina          6\n",
      "North Michael           6\n",
      "Lake Jennifer           6\n",
      "West Christopher        5\n",
      "                       ..\n",
      "Kendramouth             1\n",
      "East Christopherfort    1\n",
      "Wandamouth              1\n",
      "Hamptonburgh            1\n",
      "North Alexview          1\n",
      "Name: count, Length: 4247, dtype: int64\n",
      "Payment_Method:\n",
      "\n",
      "Payment_Method\n",
      "Insurance      1290\n",
      "Cash           1257\n",
      "Credit Card    1228\n",
      "Debit Card     1225\n",
      "Name: count, dtype: int64\n"
     ]
    }
   ],
   "source": [
    "# count value sof categorical variables\n",
    "\n",
    "def check_count_cat(cat_col, data):\n",
    "    for col in data.columns:\n",
    "        if col in cat_col:\n",
    "            print(f'{col}:\\n')\n",
    "            print(data[col].value_counts())\n",
    "\n",
    "check_count_cat(cat_col,data)"
   ]
  },
  {
   "cell_type": "markdown",
   "metadata": {},
   "source": [
    "## Explanatory analysis"
   ]
  },
  {
   "cell_type": "code",
   "execution_count": 16,
   "metadata": {},
   "outputs": [],
   "source": [
    "import seaborn as sns\n",
    "\n",
    "import warnings\n",
    "warnings.filterwarnings('ignore')\n"
   ]
  },
  {
   "cell_type": "code",
   "execution_count": 17,
   "metadata": {},
   "outputs": [
    {
     "data": {
      "image/png": "[encoded data removed]",
      "text/plain": [
       "<Figure size 1000x600 with 1 Axes>"
      ]
     },
     "metadata": {},
     "output_type": "display_data"
    }
   ],
   "source": [
    "# Boxplot to visualize the distribution of Claim Amount\n",
    "plt.figure(figsize=(10, 6))\n",
    "sns.boxplot(x='Claim_Status', y='Claim_Amount', data=data, palette='Set2')\n",
    "plt.title('Claim Amount Distribution by Claim Status')\n",
    "plt.tight_layout()\n",
    "plt.show()"
   ]
  },
  {
   "cell_type": "code",
   "execution_count": 18,
   "metadata": {},
   "outputs": [
    {
     "data": {
      "image/png": "[encoded data removed]",
      "text/plain": [
       "<Figure size 800x500 with 1 Axes>"
      ]
     },
     "metadata": {},
     "output_type": "display_data"
    }
   ],
   "source": [
    "plt.figure(figsize=(8, 5))\n",
    "sns.histplot(data['Claim_Amount'], bins=30, kde=True)  # kde=True adds the density plot\n",
    "plt.title('Claim Amount Distribution')\n",
    "plt.tight_layout()\n",
    "plt.show()\n"
   ]
  },
  {
   "cell_type": "code",
   "execution_count": 19,
   "metadata": {},
   "outputs": [
    {
     "data": {
      "image/png": "[encoded data removed]",
      "text/plain": [
       "<Figure size 800x500 with 1 Axes>"
      ]
     },
     "metadata": {},
     "output_type": "display_data"
    }
   ],
   "source": [
    "plt.figure(figsize=(8, 5))\n",
    "sns.countplot(x='Claim_Status', data=data, palette='Set1')\n",
    "plt.title('Claim Status Distribution')\n",
    "plt.tight_layout()\n",
    "plt.show() "
   ]
  },
  {
   "cell_type": "code",
   "execution_count": 20,
   "metadata": {},
   "outputs": [
    {
     "data": {
      "image/png": "[encoded data removed]",
      "text/plain": [
       "<Figure size 800x800 with 1 Axes>"
      ]
     },
     "metadata": {},
     "output_type": "display_data"
    }
   ],
   "source": [
    "plt.figure(figsize=(8, 8))\n",
    "payment_method_counts = data['Payment_Method'].value_counts()\n",
    "plt.pie(payment_method_counts, labels=payment_method_counts.index, autopct='%1.1f%%', startangle=90, colors=sns.color_palette(\"Set3\", len(payment_method_counts)))\n",
    "plt.title('Payment Method Distribution')\n",
    "plt.axis('equal')\n",
    "plt.show()"
   ]
  },
  {
   "cell_type": "markdown",
   "metadata": {},
   "source": [
    "# KDE Plot "
   ]
  },
  {
   "cell_type": "code",
   "execution_count": 21,
   "metadata": {},
   "outputs": [
    {
     "data": {
      "image/png": "[encoded data removed]",
      "text/plain": [
       "<Figure size 800x500 with 1 Axes>"
      ]
     },
     "metadata": {},
     "output_type": "display_data"
    }
   ],
   "source": [
    "plt.figure(figsize=(8, 5))\n",
    "sns.kdeplot(data['Claim_Amount'], fill=True, color='blue')\n",
    "plt.title('Claim Amount Distribution (KDE)')\n",
    "plt.tight_layout()\n",
    "plt.show()"
   ]
  },
  {
   "cell_type": "code",
   "execution_count": 22,
   "metadata": {},
   "outputs": [
    {
     "data": {
      "image/png": "[encoded data removed]",
      "text/plain": [
       "<Figure size 1000x600 with 1 Axes>"
      ]
     },
     "metadata": {},
     "output_type": "display_data"
    }
   ],
   "source": [
    "plt.figure(figsize=(10, 6))\n",
    "sns.violinplot(x='Gender', y='Age', data=data, palette='Pastel1')\n",
    "plt.title('Age Distribution by Gender')\n",
    "plt.tight_layout()\n",
    "plt.show()\n"
   ]
  },
  {
   "cell_type": "markdown",
   "metadata": {},
   "source": [
    "# Correlation Heatmap\n",
    "A heatmap to show correlations between numerical features:"
   ]
  },
  {
   "cell_type": "code",
   "execution_count": 23,
   "metadata": {},
   "outputs": [
    {
     "data": {
      "image/png": "[encoded data removed]",
      "text/plain": [
       "<Figure size 1000x800 with 2 Axes>"
      ]
     },
     "metadata": {},
     "output_type": "display_data"
    }
   ],
   "source": [
    "plt.figure(figsize=(10, 8))\n",
    "corr = data[['Claim_Amount', 'Age', 'Reputation_Score', 'Time_Between_Claims', 'Cost_Deviation']].corr()\n",
    "sns.heatmap(corr, annot=True, cmap='coolwarm', vmin=-1, vmax=1, center=0)\n",
    "plt.title('Correlation Heatmap')\n",
    "plt.tight_layout()\n",
    "plt.show()"
   ]
  },
  {
   "cell_type": "code",
   "execution_count": 24,
   "metadata": {},
   "outputs": [
    {
     "data": {
      "text/html": [
       "<div>\n",
       "<style scoped>\n",
       "    .dataframe tbody tr th:only-of-type {\n",
       "        vertical-align: middle;\n",
       "    }\n",
       "\n",
       "    .dataframe tbody tr th {\n",
       "        vertical-align: top;\n",
       "    }\n",
       "\n",
       "    .dataframe thead th {\n",
       "        text-align: right;\n",
       "    }\n",
       "</style>\n",
       "<table border=\"1\" class=\"dataframe\">\n",
       "  <thead>\n",
       "    <tr style=\"text-align: right;\">\n",
       "      <th></th>\n",
       "      <th>Claim_Amount</th>\n",
       "      <th>Age</th>\n",
       "      <th>Reputation_Score</th>\n",
       "      <th>Time_Between_Claims</th>\n",
       "      <th>Cost_Deviation</th>\n",
       "    </tr>\n",
       "  </thead>\n",
       "  <tbody>\n",
       "    <tr>\n",
       "      <th>Claim_Amount</th>\n",
       "      <td>1.000000</td>\n",
       "      <td>0.345297</td>\n",
       "      <td>0.012950</td>\n",
       "      <td>0.030079</td>\n",
       "      <td>0.005087</td>\n",
       "    </tr>\n",
       "    <tr>\n",
       "      <th>Age</th>\n",
       "      <td>0.345297</td>\n",
       "      <td>1.000000</td>\n",
       "      <td>-0.012436</td>\n",
       "      <td>0.038135</td>\n",
       "      <td>-0.013492</td>\n",
       "    </tr>\n",
       "    <tr>\n",
       "      <th>Reputation_Score</th>\n",
       "      <td>0.012950</td>\n",
       "      <td>-0.012436</td>\n",
       "      <td>1.000000</td>\n",
       "      <td>0.006285</td>\n",
       "      <td>0.777118</td>\n",
       "    </tr>\n",
       "    <tr>\n",
       "      <th>Time_Between_Claims</th>\n",
       "      <td>0.030079</td>\n",
       "      <td>0.038135</td>\n",
       "      <td>0.006285</td>\n",
       "      <td>1.000000</td>\n",
       "      <td>0.016259</td>\n",
       "    </tr>\n",
       "    <tr>\n",
       "      <th>Cost_Deviation</th>\n",
       "      <td>0.005087</td>\n",
       "      <td>-0.013492</td>\n",
       "      <td>0.777118</td>\n",
       "      <td>0.016259</td>\n",
       "      <td>1.000000</td>\n",
       "    </tr>\n",
       "  </tbody>\n",
       "</table>\n",
       "</div>"
      ],
      "text/plain": [
       "                     Claim_Amount       Age  Reputation_Score  \\\n",
       "Claim_Amount             1.000000  0.345297          0.012950   \n",
       "Age                      0.345297  1.000000         -0.012436   \n",
       "Reputation_Score         0.012950 -0.012436          1.000000   \n",
       "Time_Between_Claims      0.030079  0.038135          0.006285   \n",
       "Cost_Deviation           0.005087 -0.013492          0.777118   \n",
       "\n",
       "                     Time_Between_Claims  Cost_Deviation  \n",
       "Claim_Amount                    0.030079        0.005087  \n",
       "Age                             0.038135       -0.013492  \n",
       "Reputation_Score                0.006285        0.777118  \n",
       "Time_Between_Claims             1.000000        0.016259  \n",
       "Cost_Deviation                  0.016259        1.000000  "
      ]
     },
     "execution_count": 24,
     "metadata": {},
     "output_type": "execute_result"
    }
   ],
   "source": [
    "corr"
   ]
  },
  {
   "cell_type": "markdown",
   "metadata": {},
   "source": [
    "# Anomaly Detection\n",
    "\n",
    "Used Z-Score(Standard deviation Method) and IQR (Interquartile Range) to idenfy the outliers"
   ]
  },
  {
   "cell_type": "code",
   "execution_count": 25,
   "metadata": {},
   "outputs": [],
   "source": [
    "from scipy.stats import zscore\n",
    "\n",
    "data['Claim_Amount_Z'] = zscore(data['Claim_Amount'])"
   ]
  },
  {
   "cell_type": "code",
   "execution_count": 26,
   "metadata": {},
   "outputs": [
    {
     "name": "stdout",
     "output_type": "stream",
     "text": [
      "Anomalies based on Z-score:\n",
      "0       0\n",
      "1       0\n",
      "2       0\n",
      "3       0\n",
      "4       0\n",
      "       ..\n",
      "4995    0\n",
      "4996    0\n",
      "4997    0\n",
      "4998    0\n",
      "4999    0\n",
      "Name: outlier_Z_score, Length: 5000, dtype: int64\n"
     ]
    }
   ],
   "source": [
    "data['outlier_Z_score']= np.where(data['Claim_Amount_Z'].abs()>3,1,0)\n",
    "# Display anomalies\n",
    "print(f\"Anomalies based on Z-score:\\n{data['outlier_Z_score']}\")\n"
   ]
  },
  {
   "cell_type": "code",
   "execution_count": 27,
   "metadata": {},
   "outputs": [
    {
     "data": {
      "text/plain": [
       "0       0\n",
       "1       0\n",
       "2       0\n",
       "3       0\n",
       "4       0\n",
       "       ..\n",
       "4995    0\n",
       "4996    0\n",
       "4997    0\n",
       "4998    0\n",
       "4999    0\n",
       "Name: outlier_iqr, Length: 5000, dtype: int64"
      ]
     },
     "execution_count": 27,
     "metadata": {},
     "output_type": "execute_result"
    }
   ],
   "source": [
    "Q1 = data['Claim_Amount'].quantile(0.25)\n",
    "Q3 = data['Claim_Amount'].quantile(0.75)\n",
    "\n",
    "IQR = Q3 - Q1\n",
    "\n",
    "data['outlier_iqr'] = np.where((data['Claim_Amount'] < (Q1 - 1.5 * IQR)) | \n",
    "                               (data['Claim_Amount'] > (Q3 +1.5 *IQR)),1,0)\n",
    "data['outlier_iqr']"
   ]
  },
  {
   "cell_type": "code",
   "execution_count": 28,
   "metadata": {},
   "outputs": [
    {
     "data": {
      "text/plain": [
       "0       False\n",
       "1       False\n",
       "2       False\n",
       "3       False\n",
       "4       False\n",
       "        ...  \n",
       "4995    False\n",
       "4996    False\n",
       "4997    False\n",
       "4998    False\n",
       "4999    False\n",
       "Name: Claim_Amount, Length: 5000, dtype: bool"
      ]
     },
     "execution_count": 28,
     "metadata": {},
     "output_type": "execute_result"
    }
   ],
   "source": [
    "data['Claim_Amount'] > 100000"
   ]
  },
  {
   "cell_type": "markdown",
   "metadata": {},
   "source": [
    "* Claim_Amount_Z: Z-Score for Claim_Amount to identify outliers.\n",
    "* Outlier_Z_Score: Flag (1 or 0) indicating whether the row is an outlier based on Z-Score.\n",
    "* Outlier_IQR: Flag (1 or 0) indicating whether the row is an outlier based on the IQR method.\n",
    "* Outlier_Flag: Combined flag for outliers, where 1 indicates an outlier (from either Z-Score or IQR), and 0 indicates normal.\n",
    "* Is_Outlier: A simple label ('Yes' or 'No') for whether the row is an outlier."
   ]
  },
  {
   "cell_type": "code",
   "execution_count": 29,
   "metadata": {},
   "outputs": [
    {
     "name": "stdout",
     "output_type": "stream",
     "text": [
      "   Claim_ID  Claim_Amount  Claim_Amount_Z  outlier_Z_score  outlier_iqr  \\\n",
      "0  cef37d58  59615.656143        0.565132                0            0   \n",
      "1  11a7a4d8  10514.185793       -0.338404                0            0   \n",
      "2  34dcf268      0.000000       -0.531880                0            0   \n",
      "3  aad703b1  29974.343159        0.019690                0            0   \n",
      "4  6f0bfe8d      0.000000       -0.531880                0            0   \n",
      "\n",
      "   Outlier_Flag Is_Outlier  \n",
      "0             0         No  \n",
      "1             0         No  \n",
      "2             0         No  \n",
      "3             0         No  \n",
      "4             0         No  \n"
     ]
    }
   ],
   "source": [
    "data['Outlier_Flag'] = data['outlier_Z_score'] | data['outlier_iqr']\n",
    "data['Is_Outlier'] = np.where(data['Outlier_Flag'] ==1, \"Yes\", 'No')\n",
    "\n",
    "# Now your dataframe has outlier flags for each row\n",
    "print(data[['Claim_ID', 'Claim_Amount', 'Claim_Amount_Z', 'outlier_Z_score', 'outlier_iqr', 'Outlier_Flag', 'Is_Outlier']].head())\n"
   ]
  },
  {
   "cell_type": "code",
   "execution_count": 30,
   "metadata": {},
   "outputs": [
    {
     "data": {
      "text/html": [
       "<div>\n",
       "<style scoped>\n",
       "    .dataframe tbody tr th:only-of-type {\n",
       "        vertical-align: middle;\n",
       "    }\n",
       "\n",
       "    .dataframe tbody tr th {\n",
       "        vertical-align: top;\n",
       "    }\n",
       "\n",
       "    .dataframe thead th {\n",
       "        text-align: right;\n",
       "    }\n",
       "</style>\n",
       "<table border=\"1\" class=\"dataframe\">\n",
       "  <thead>\n",
       "    <tr style=\"text-align: right;\">\n",
       "      <th></th>\n",
       "      <th>Claim_ID</th>\n",
       "      <th>Claim_Amount</th>\n",
       "      <th>Procedure_Code</th>\n",
       "      <th>Service_Date</th>\n",
       "      <th>Claim_Status</th>\n",
       "      <th>Patient_ID</th>\n",
       "      <th>Age</th>\n",
       "      <th>Gender</th>\n",
       "      <th>Location</th>\n",
       "      <th>Medical_History</th>\n",
       "      <th>Insurance_Plan</th>\n",
       "      <th>Provider_ID</th>\n",
       "      <th>Specialization</th>\n",
       "      <th>Provider_Location</th>\n",
       "      <th>Reputation_Score</th>\n",
       "      <th>Payment_Method</th>\n",
       "    </tr>\n",
       "  </thead>\n",
       "  <tbody>\n",
       "    <tr>\n",
       "      <th>0</th>\n",
       "      <td>cef37d58</td>\n",
       "      <td>59615.656143</td>\n",
       "      <td>99282</td>\n",
       "      <td>2024-01-24</td>\n",
       "      <td>Approved</td>\n",
       "      <td>20882</td>\n",
       "      <td>66</td>\n",
       "      <td>Male</td>\n",
       "      <td>South Patrickview</td>\n",
       "      <td>Hypertension</td>\n",
       "      <td>Basic</td>\n",
       "      <td>60441</td>\n",
       "      <td>Emergency Medicine</td>\n",
       "      <td>South Amandaborough</td>\n",
       "      <td>3.86</td>\n",
       "      <td>Debit Card</td>\n",
       "    </tr>\n",
       "    <tr>\n",
       "      <th>1</th>\n",
       "      <td>11a7a4d8</td>\n",
       "      <td>10514.185793</td>\n",
       "      <td>11042</td>\n",
       "      <td>2020-03-04</td>\n",
       "      <td>Under Review</td>\n",
       "      <td>98919</td>\n",
       "      <td>62</td>\n",
       "      <td>Male</td>\n",
       "      <td>South Christinaville</td>\n",
       "      <td>None</td>\n",
       "      <td>Premium</td>\n",
       "      <td>17172</td>\n",
       "      <td>Cardiology</td>\n",
       "      <td>Lake Jennifer</td>\n",
       "      <td>2.44</td>\n",
       "      <td>Cash</td>\n",
       "    </tr>\n",
       "    <tr>\n",
       "      <th>2</th>\n",
       "      <td>34dcf268</td>\n",
       "      <td>0.000000</td>\n",
       "      <td>99283</td>\n",
       "      <td>2024-01-02</td>\n",
       "      <td>Denied</td>\n",
       "      <td>25694</td>\n",
       "      <td>47</td>\n",
       "      <td>Female</td>\n",
       "      <td>Allenland</td>\n",
       "      <td>Diabetes</td>\n",
       "      <td>Standard</td>\n",
       "      <td>47939</td>\n",
       "      <td>Orthopedics</td>\n",
       "      <td>West Jason</td>\n",
       "      <td>4.40</td>\n",
       "      <td>Debit Card</td>\n",
       "    </tr>\n",
       "    <tr>\n",
       "      <th>3</th>\n",
       "      <td>aad703b1</td>\n",
       "      <td>29974.343159</td>\n",
       "      <td>12001</td>\n",
       "      <td>2023-03-15</td>\n",
       "      <td>Under Review</td>\n",
       "      <td>94814</td>\n",
       "      <td>76</td>\n",
       "      <td>Female</td>\n",
       "      <td>Port Susanbury</td>\n",
       "      <td>None</td>\n",
       "      <td>Standard</td>\n",
       "      <td>18723</td>\n",
       "      <td>Dermatology</td>\n",
       "      <td>Lake Jacqueline</td>\n",
       "      <td>2.69</td>\n",
       "      <td>Cash</td>\n",
       "    </tr>\n",
       "    <tr>\n",
       "      <th>4</th>\n",
       "      <td>6f0bfe8d</td>\n",
       "      <td>0.000000</td>\n",
       "      <td>99382</td>\n",
       "      <td>2021-06-02</td>\n",
       "      <td>Denied</td>\n",
       "      <td>23811</td>\n",
       "      <td>78</td>\n",
       "      <td>Male</td>\n",
       "      <td>Myersburgh</td>\n",
       "      <td>None</td>\n",
       "      <td>Premium</td>\n",
       "      <td>34145</td>\n",
       "      <td>Emergency Medicine</td>\n",
       "      <td>North Alexview</td>\n",
       "      <td>4.40</td>\n",
       "      <td>Credit Card</td>\n",
       "    </tr>\n",
       "    <tr>\n",
       "      <th>5</th>\n",
       "      <td>0e7f62c0</td>\n",
       "      <td>0.000000</td>\n",
       "      <td>99282</td>\n",
       "      <td>2024-12-19</td>\n",
       "      <td>Denied</td>\n",
       "      <td>27986</td>\n",
       "      <td>22</td>\n",
       "      <td>Female</td>\n",
       "      <td>North Andreaborough</td>\n",
       "      <td>Diabetes</td>\n",
       "      <td>Standard</td>\n",
       "      <td>88932</td>\n",
       "      <td>Emergency Medicine</td>\n",
       "      <td>West Alison</td>\n",
       "      <td>3.95</td>\n",
       "      <td>Cash</td>\n",
       "    </tr>\n",
       "    <tr>\n",
       "      <th>6</th>\n",
       "      <td>bc1860de</td>\n",
       "      <td>0.000000</td>\n",
       "      <td>43235</td>\n",
       "      <td>2024-09-11</td>\n",
       "      <td>Denied</td>\n",
       "      <td>59414</td>\n",
       "      <td>85</td>\n",
       "      <td>Female</td>\n",
       "      <td>South Frederick</td>\n",
       "      <td>Asthama</td>\n",
       "      <td>Standard</td>\n",
       "      <td>67091</td>\n",
       "      <td>Orthopedics</td>\n",
       "      <td>South Patriciaberg</td>\n",
       "      <td>1.12</td>\n",
       "      <td>Cash</td>\n",
       "    </tr>\n",
       "    <tr>\n",
       "      <th>7</th>\n",
       "      <td>734d6758</td>\n",
       "      <td>34773.604723</td>\n",
       "      <td>43235</td>\n",
       "      <td>2022-07-09</td>\n",
       "      <td>Under Review</td>\n",
       "      <td>47642</td>\n",
       "      <td>78</td>\n",
       "      <td>Female</td>\n",
       "      <td>Lake Dana</td>\n",
       "      <td>Asthama</td>\n",
       "      <td>Basic</td>\n",
       "      <td>73999</td>\n",
       "      <td>Orthopedics</td>\n",
       "      <td>Lake Scott</td>\n",
       "      <td>4.22</td>\n",
       "      <td>Insurance</td>\n",
       "    </tr>\n",
       "    <tr>\n",
       "      <th>8</th>\n",
       "      <td>a0c0d79b</td>\n",
       "      <td>0.000000</td>\n",
       "      <td>99282</td>\n",
       "      <td>2020-11-26</td>\n",
       "      <td>Denied</td>\n",
       "      <td>29531</td>\n",
       "      <td>23</td>\n",
       "      <td>Male</td>\n",
       "      <td>North Peter</td>\n",
       "      <td>Diabetes</td>\n",
       "      <td>Standard</td>\n",
       "      <td>60649</td>\n",
       "      <td>Dermatology</td>\n",
       "      <td>East Jorge</td>\n",
       "      <td>3.18</td>\n",
       "      <td>Debit Card</td>\n",
       "    </tr>\n",
       "    <tr>\n",
       "      <th>9</th>\n",
       "      <td>24d852ee</td>\n",
       "      <td>0.000000</td>\n",
       "      <td>99283</td>\n",
       "      <td>2023-03-14</td>\n",
       "      <td>Denied</td>\n",
       "      <td>40306</td>\n",
       "      <td>71</td>\n",
       "      <td>Male</td>\n",
       "      <td>West Gregorystad</td>\n",
       "      <td>Diabetes</td>\n",
       "      <td>Standard</td>\n",
       "      <td>80131</td>\n",
       "      <td>Cardiology</td>\n",
       "      <td>Kellyfort</td>\n",
       "      <td>4.65</td>\n",
       "      <td>Debit Card</td>\n",
       "    </tr>\n",
       "  </tbody>\n",
       "</table>\n",
       "</div>"
      ],
      "text/plain": [
       "   Claim_ID  Claim_Amount Procedure_Code Service_Date  Claim_Status  \\\n",
       "0  cef37d58  59615.656143          99282   2024-01-24      Approved   \n",
       "1  11a7a4d8  10514.185793          11042   2020-03-04  Under Review   \n",
       "2  34dcf268      0.000000          99283   2024-01-02        Denied   \n",
       "3  aad703b1  29974.343159          12001   2023-03-15  Under Review   \n",
       "4  6f0bfe8d      0.000000          99382   2021-06-02        Denied   \n",
       "5  0e7f62c0      0.000000          99282   2024-12-19        Denied   \n",
       "6  bc1860de      0.000000          43235   2024-09-11        Denied   \n",
       "7  734d6758  34773.604723          43235   2022-07-09  Under Review   \n",
       "8  a0c0d79b      0.000000          99282   2020-11-26        Denied   \n",
       "9  24d852ee      0.000000          99283   2023-03-14        Denied   \n",
       "\n",
       "   Patient_ID  Age  Gender              Location Medical_History  \\\n",
       "0       20882   66    Male     South Patrickview    Hypertension   \n",
       "1       98919   62    Male  South Christinaville            None   \n",
       "2       25694   47  Female             Allenland        Diabetes   \n",
       "3       94814   76  Female        Port Susanbury            None   \n",
       "4       23811   78    Male            Myersburgh            None   \n",
       "5       27986   22  Female   North Andreaborough        Diabetes   \n",
       "6       59414   85  Female       South Frederick         Asthama   \n",
       "7       47642   78  Female             Lake Dana         Asthama   \n",
       "8       29531   23    Male           North Peter        Diabetes   \n",
       "9       40306   71    Male      West Gregorystad        Diabetes   \n",
       "\n",
       "  Insurance_Plan  Provider_ID      Specialization    Provider_Location  \\\n",
       "0          Basic        60441  Emergency Medicine  South Amandaborough   \n",
       "1        Premium        17172          Cardiology        Lake Jennifer   \n",
       "2       Standard        47939         Orthopedics           West Jason   \n",
       "3       Standard        18723         Dermatology      Lake Jacqueline   \n",
       "4        Premium        34145  Emergency Medicine       North Alexview   \n",
       "5       Standard        88932  Emergency Medicine          West Alison   \n",
       "6       Standard        67091         Orthopedics   South Patriciaberg   \n",
       "7          Basic        73999         Orthopedics           Lake Scott   \n",
       "8       Standard        60649         Dermatology           East Jorge   \n",
       "9       Standard        80131          Cardiology            Kellyfort   \n",
       "\n",
       "   Reputation_Score Payment_Method  \n",
       "0              3.86     Debit Card  \n",
       "1              2.44           Cash  \n",
       "2              4.40     Debit Card  \n",
       "3              2.69           Cash  \n",
       "4              4.40    Credit Card  \n",
       "5              3.95           Cash  \n",
       "6              1.12           Cash  \n",
       "7              4.22      Insurance  \n",
       "8              3.18     Debit Card  \n",
       "9              4.65     Debit Card  "
      ]
     },
     "execution_count": 30,
     "metadata": {},
     "output_type": "execute_result"
    }
   ],
   "source": [
    "data.iloc[:10,:16]"
   ]
  },
  {
   "cell_type": "code",
   "execution_count": 31,
   "metadata": {},
   "outputs": [
    {
     "name": "stdout",
     "output_type": "stream",
     "text": [
      "   Claim_ID  Claim_Amount  Age  Cluster\n",
      "0  cef37d58  59615.656143   66       -1\n",
      "1  11a7a4d8  10514.185793   62       -1\n",
      "2  34dcf268      0.000000   47        0\n",
      "3  aad703b1  29974.343159   76       -1\n",
      "4  6f0bfe8d      0.000000   78        1\n"
     ]
    }
   ],
   "source": [
    "from sklearn.cluster import DBSCAN\n",
    "\n",
    "# Use Claim_Amount and Age as features for DBSCAN clustering\n",
    "X_clustering = data[['Claim_Amount', 'Age']]\n",
    "\n",
    "# Apply DBSCAN clustering\n",
    "dbscan = DBSCAN(eps=0.8, min_samples=10)\n",
    "data['Cluster'] = dbscan.fit_predict(X_clustering)\n",
    "\n",
    "# -1 in the 'Cluster' column indicates outliers\n",
    "print(data[['Claim_ID', 'Claim_Amount', 'Age', 'Cluster']].head())\n"
   ]
  },
  {
   "cell_type": "code",
   "execution_count": 32,
   "metadata": {},
   "outputs": [
    {
     "data": {
      "text/plain": [
       "820962.6351089684"
      ]
     },
     "execution_count": 32,
     "metadata": {},
     "output_type": "execute_result"
    }
   ],
   "source": [
    "max(data['Claim_Amount'])"
   ]
  },
  {
   "cell_type": "markdown",
   "metadata": {},
   "source": [
    "# Feature Engineering"
   ]
  },
  {
   "cell_type": "markdown",
   "metadata": {},
   "source": [
    "### High Claim Amount"
   ]
  },
  {
   "cell_type": "code",
   "execution_count": 33,
   "metadata": {},
   "outputs": [
    {
     "data": {
      "text/plain": [
       "High_Claim_Amount\n",
       "0    3708\n",
       "1    1292\n",
       "Name: count, dtype: int64"
      ]
     },
     "execution_count": 33,
     "metadata": {},
     "output_type": "execute_result"
    }
   ],
   "source": [
    " # Create a flag for high claim amounts\n",
    "data['High_Claim_Amount'] = (data['Claim_Amount'] >50000).astype(int)\n",
    "data['High_Claim_Amount'].value_counts()"
   ]
  },
  {
   "cell_type": "markdown",
   "metadata": {},
   "source": [
    "Interpretation:\n",
    "* 1275 rows have a high claim amount (Claim_Amount > 50,000).\n",
    "* 3725 rows have a normal claim amount (Claim_Amount <= 50,000)."
   ]
  },
  {
   "cell_type": "markdown",
   "metadata": {},
   "source": [
    "### Suspicious Timing"
   ]
  },
  {
   "cell_type": "code",
   "execution_count": 34,
   "metadata": {},
   "outputs": [
    {
     "data": {
      "text/plain": [
       "Suspicious_Timing\n",
       "0    4646\n",
       "1     354\n",
       "Name: count, dtype: int64"
      ]
     },
     "execution_count": 34,
     "metadata": {},
     "output_type": "execute_result"
    }
   ],
   "source": [
    "data['Suspicious_Timing'] = (data['Time_Between_Claims'] <= 7).astype('int')\n",
    "data['Suspicious_Timing'].value_counts()\n"
   ]
  },
  {
   "cell_type": "markdown",
   "metadata": {},
   "source": [
    "* 321 indicates that the claim is considered suspicious because it was made within 7 days of the previous claim. The count is 327.\n",
    "* 0 indicates that the claim is not suspicious, i.e., it was made after 7 days of the previous claim. The count is 4673."
   ]
  },
  {
   "cell_type": "markdown",
   "metadata": {},
   "source": [
    "# Expected Claim Amount"
   ]
  },
  {
   "cell_type": "code",
   "execution_count": 41,
   "metadata": {},
   "outputs": [
    {
     "data": {
      "text/plain": [
       "0       154568.120683\n",
       "1        21436.697408\n",
       "2            0.000000\n",
       "3        42882.390391\n",
       "4            0.000000\n",
       "            ...      \n",
       "4995    227601.821607\n",
       "4996         0.000000\n",
       "4997         0.000000\n",
       "4998         0.000000\n",
       "4999         0.000000\n",
       "Name: expected_claim_amount, Length: 5000, dtype: float64"
      ]
     },
     "execution_count": 41,
     "metadata": {},
     "output_type": "execute_result"
    }
   ],
   "source": [
    "# expected amount\n",
    "\n",
    "data['expected_claim_amount'] = np.where(\n",
    "    data['Claim_Amount'] >0,\n",
    "    data['Claim_Amount'] * data['Cost_Deviation'],0\n",
    ")\n",
    "\n",
    "data['expected_claim_amount'] "
   ]
  },
  {
   "cell_type": "code",
   "execution_count": 42,
   "metadata": {},
   "outputs": [
    {
     "name": "stdout",
     "output_type": "stream",
     "text": [
      "   Claim_Amount  Cost_Deviation  expected_claim_amount\n",
      "0  59615.656143        2.592744          154568.120683\n",
      "1  10514.185793        2.038836           21436.697408\n",
      "2      0.000000        1.830989               0.000000\n",
      "3  29974.343159        1.430637           42882.390391\n",
      "4      0.000000        2.798629               0.000000\n"
     ]
    }
   ],
   "source": [
    "print(data[['Claim_Amount', 'Cost_Deviation', 'expected_claim_amount']].head())"
   ]
  },
  {
   "cell_type": "markdown",
   "metadata": {},
   "source": [
    "# # Group by 'Patient_ID' and calculate the number of claims and the gap between claims"
   ]
  },
  {
   "cell_type": "code",
   "execution_count": 36,
   "metadata": {},
   "outputs": [
    {
     "name": "stdout",
     "output_type": "stream",
     "text": [
      "      Patient_ID  claim_count  avg_gap\n",
      "0          10000            2    215.5\n",
      "1          10004            1     19.0\n",
      "2          10019            1    308.0\n",
      "3          10022            1     27.0\n",
      "4          10047            1    159.0\n",
      "...          ...          ...      ...\n",
      "4856       99889            1    114.0\n",
      "4857       99921            1     80.0\n",
      "4858       99923            1    172.0\n",
      "4859       99934            1     36.0\n",
      "4860       99956            1    316.0\n",
      "\n",
      "[4861 rows x 3 columns]\n"
     ]
    }
   ],
   "source": [
    "# Group by 'Patient_ID' and calculate the number of claims and the gap between claims\n",
    "patient_claims = data.groupby('Patient_ID').agg(\n",
    "    claim_count = ('Claim_Amount', 'count'),\n",
    "    avg_gap = ('Time_Between_Claims', 'mean')).reset_index()\n",
    "\n",
    "print(patient_claims)"
   ]
  },
  {
   "cell_type": "code",
   "execution_count": 37,
   "metadata": {},
   "outputs": [
    {
     "data": {
      "text/plain": [
       "<Axes: xlabel='avg_gap', ylabel='Count'>"
      ]
     },
     "execution_count": 37,
     "metadata": {},
     "output_type": "execute_result"
    },
    {
     "data": {
      "image/png": "[encoded data removed]",
      "text/plain": [
       "<Figure size 640x480 with 1 Axes>"
      ]
     },
     "metadata": {},
     "output_type": "display_data"
    }
   ],
   "source": [
    "sns.histplot(data = patient_claims, x= 'avg_gap', kde=True)\n",
    "# sns.kdeplot"
   ]
  },
  {
   "cell_type": "code",
   "execution_count": 38,
   "metadata": {},
   "outputs": [
    {
     "data": {
      "text/html": [
       "<div>\n",
       "<style scoped>\n",
       "    .dataframe tbody tr th:only-of-type {\n",
       "        vertical-align: middle;\n",
       "    }\n",
       "\n",
       "    .dataframe tbody tr th {\n",
       "        vertical-align: top;\n",
       "    }\n",
       "\n",
       "    .dataframe thead th {\n",
       "        text-align: right;\n",
       "    }\n",
       "</style>\n",
       "<table border=\"1\" class=\"dataframe\">\n",
       "  <thead>\n",
       "    <tr style=\"text-align: right;\">\n",
       "      <th></th>\n",
       "      <th>Patient_ID</th>\n",
       "      <th>claim_count</th>\n",
       "      <th>avg_gap</th>\n",
       "    </tr>\n",
       "  </thead>\n",
       "  <tbody>\n",
       "    <tr>\n",
       "      <th>1967</th>\n",
       "      <td>46416</td>\n",
       "      <td>3</td>\n",
       "      <td>123.666667</td>\n",
       "    </tr>\n",
       "  </tbody>\n",
       "</table>\n",
       "</div>"
      ],
      "text/plain": [
       "      Patient_ID  claim_count     avg_gap\n",
       "1967       46416            3  123.666667"
      ]
     },
     "execution_count": 38,
     "metadata": {},
     "output_type": "execute_result"
    }
   ],
   "source": [
    "# maximum claims \n",
    "max_n = patient_claims.loc[patient_claims['claim_count'].idxmax(), 'Patient_ID']\n",
    "a =patient_claims[patient_claims['Patient_ID'] == max_n]\n",
    "a"
   ]
  },
  {
   "cell_type": "markdown",
   "metadata": {},
   "source": [
    "# Merge aggregated table with original table"
   ]
  },
  {
   "cell_type": "code",
   "execution_count": 39,
   "metadata": {},
   "outputs": [],
   "source": [
    "data = data.merge(patient_claims, on='Patient_ID', how = 'left')"
   ]
  },
  {
   "cell_type": "code",
   "execution_count": 40,
   "metadata": {},
   "outputs": [
    {
     "data": {
      "text/html": [
       "<div>\n",
       "<style scoped>\n",
       "    .dataframe tbody tr th:only-of-type {\n",
       "        vertical-align: middle;\n",
       "    }\n",
       "\n",
       "    .dataframe tbody tr th {\n",
       "        vertical-align: top;\n",
       "    }\n",
       "\n",
       "    .dataframe thead th {\n",
       "        text-align: right;\n",
       "    }\n",
       "</style>\n",
       "<table border=\"1\" class=\"dataframe\">\n",
       "  <thead>\n",
       "    <tr style=\"text-align: right;\">\n",
       "      <th></th>\n",
       "      <th>Claim_ID</th>\n",
       "      <th>Claim_Amount</th>\n",
       "      <th>Procedure_Code</th>\n",
       "      <th>Service_Date</th>\n",
       "      <th>Claim_Status</th>\n",
       "      <th>Patient_ID</th>\n",
       "      <th>Age</th>\n",
       "      <th>Gender</th>\n",
       "      <th>Location</th>\n",
       "      <th>Medical_History</th>\n",
       "      <th>...</th>\n",
       "      <th>Fraudulent</th>\n",
       "      <th>Claim_Amount_Z</th>\n",
       "      <th>outlier_Z_score</th>\n",
       "      <th>outlier_iqr</th>\n",
       "      <th>Outlier_Flag</th>\n",
       "      <th>Is_Outlier</th>\n",
       "      <th>Cluster</th>\n",
       "      <th>High_Claim_Amount</th>\n",
       "      <th>claim_count</th>\n",
       "      <th>avg_gap</th>\n",
       "    </tr>\n",
       "  </thead>\n",
       "  <tbody>\n",
       "    <tr>\n",
       "      <th>2579</th>\n",
       "      <td>a781b3ef</td>\n",
       "      <td>5026.936582</td>\n",
       "      <td>99282</td>\n",
       "      <td>2022-02-28</td>\n",
       "      <td>Approved</td>\n",
       "      <td>46416</td>\n",
       "      <td>44</td>\n",
       "      <td>Female</td>\n",
       "      <td>Danielbury</td>\n",
       "      <td>None</td>\n",
       "      <td>...</td>\n",
       "      <td>0</td>\n",
       "      <td>-0.421839</td>\n",
       "      <td>0</td>\n",
       "      <td>0</td>\n",
       "      <td>0</td>\n",
       "      <td>No</td>\n",
       "      <td>-1</td>\n",
       "      <td>0</td>\n",
       "      <td>3</td>\n",
       "      <td>123.666667</td>\n",
       "    </tr>\n",
       "    <tr>\n",
       "      <th>2910</th>\n",
       "      <td>07995500</td>\n",
       "      <td>109967.569002</td>\n",
       "      <td>99284</td>\n",
       "      <td>2022-05-15</td>\n",
       "      <td>Under Review</td>\n",
       "      <td>46416</td>\n",
       "      <td>70</td>\n",
       "      <td>Female</td>\n",
       "      <td>Paulshire</td>\n",
       "      <td>Hypertension</td>\n",
       "      <td>...</td>\n",
       "      <td>0</td>\n",
       "      <td>1.306307</td>\n",
       "      <td>0</td>\n",
       "      <td>0</td>\n",
       "      <td>0</td>\n",
       "      <td>No</td>\n",
       "      <td>-1</td>\n",
       "      <td>1</td>\n",
       "      <td>3</td>\n",
       "      <td>123.666667</td>\n",
       "    </tr>\n",
       "    <tr>\n",
       "      <th>4650</th>\n",
       "      <td>60068537</td>\n",
       "      <td>3624.410279</td>\n",
       "      <td>71020</td>\n",
       "      <td>2021-12-12</td>\n",
       "      <td>Approved</td>\n",
       "      <td>46416</td>\n",
       "      <td>32</td>\n",
       "      <td>Female</td>\n",
       "      <td>Millerview</td>\n",
       "      <td>Asthama</td>\n",
       "      <td>...</td>\n",
       "      <td>0</td>\n",
       "      <td>-0.444935</td>\n",
       "      <td>0</td>\n",
       "      <td>0</td>\n",
       "      <td>0</td>\n",
       "      <td>No</td>\n",
       "      <td>-1</td>\n",
       "      <td>0</td>\n",
       "      <td>3</td>\n",
       "      <td>123.666667</td>\n",
       "    </tr>\n",
       "  </tbody>\n",
       "</table>\n",
       "<p>3 rows × 30 columns</p>\n",
       "</div>"
      ],
      "text/plain": [
       "      Claim_ID   Claim_Amount Procedure_Code Service_Date  Claim_Status  \\\n",
       "2579  a781b3ef    5026.936582          99282   2022-02-28      Approved   \n",
       "2910  07995500  109967.569002          99284   2022-05-15  Under Review   \n",
       "4650  60068537    3624.410279          71020   2021-12-12      Approved   \n",
       "\n",
       "      Patient_ID  Age  Gender    Location Medical_History  ... Fraudulent  \\\n",
       "2579       46416   44  Female  Danielbury            None  ...          0   \n",
       "2910       46416   70  Female   Paulshire    Hypertension  ...          0   \n",
       "4650       46416   32  Female  Millerview         Asthama  ...          0   \n",
       "\n",
       "      Claim_Amount_Z outlier_Z_score outlier_iqr  Outlier_Flag Is_Outlier  \\\n",
       "2579       -0.421839               0           0             0         No   \n",
       "2910        1.306307               0           0             0         No   \n",
       "4650       -0.444935               0           0             0         No   \n",
       "\n",
       "      Cluster  High_Claim_Amount  claim_count     avg_gap  \n",
       "2579       -1                  0            3  123.666667  \n",
       "2910       -1                  1            3  123.666667  \n",
       "4650       -1                  0            3  123.666667  \n",
       "\n",
       "[3 rows x 30 columns]"
      ]
     },
     "execution_count": 40,
     "metadata": {},
     "output_type": "execute_result"
    }
   ],
   "source": [
    "more_claim_id = a.iloc[:,0]\n",
    "data[data['Patient_ID'].isin(more_claim_id)]"
   ]
  },
  {
   "cell_type": "code",
   "execution_count": 43,
   "metadata": {},
   "outputs": [
    {
     "data": {
      "image/png": "[encoded data removed]",
      "text/plain": [
       "<Figure size 1000x800 with 2 Axes>"
      ]
     },
     "metadata": {},
     "output_type": "display_data"
    }
   ],
   "source": [
    "plt.figure(figsize=(10, 8))\n",
    "corr = data[['Claim_Amount', 'Age', 'Reputation_Score', 'Time_Between_Claims', 'Cost_Deviation','expected_claim_amount']].corr()\n",
    "sns.heatmap(corr, annot=True, cmap='coolwarm', vmin=-1, vmax=1, center=0)\n",
    "plt.title('Correlation Heatmap')\n",
    "plt.tight_layout()\n",
    "plt.show()"
   ]
  },
  {
   "cell_type": "code",
   "execution_count": 45,
   "metadata": {},
   "outputs": [],
   "source": [
    "# ! pip install tensorflow"
   ]
  },
  {
   "cell_type": "code",
   "execution_count": 46,
   "metadata": {},
   "outputs": [
    {
     "data": {
      "text/plain": [
       "Index(['Claim_ID', 'Claim_Amount', 'Procedure_Code', 'Service_Date',\n",
       "       'Claim_Status', 'Patient_ID', 'Age', 'Gender', 'Location',\n",
       "       'Medical_History', 'Insurance_Plan', 'Provider_ID', 'Specialization',\n",
       "       'Provider_Location', 'Reputation_Score', 'Payment_Method',\n",
       "       'Time_Between_Claims', 'Cost_Deviation', 'Suspicious_Timing',\n",
       "       'Duplicate_Claims', 'Fraudulent', 'Claim_Amount_Z', 'outlier_Z_score',\n",
       "       'outlier_iqr', 'Outlier_Flag', 'Is_Outlier', 'Cluster',\n",
       "       'High_Claim_Amount', 'expected_claim_amount'],\n",
       "      dtype='object')"
      ]
     },
     "execution_count": 46,
     "metadata": {},
     "output_type": "execute_result"
    }
   ],
   "source": [
    "data.columns"
   ]
  },
  {
   "cell_type": "code",
   "execution_count": null,
   "metadata": {},
   "outputs": [],
   "source": []
  }
 ],
 "metadata": {
  "kernelspec": {
   "display_name": "venv",
   "language": "python",
   "name": "python3"
  },
  "language_info": {
   "codemirror_mode": {
    "name": "ipython",
    "version": 3
   },
   "file_extension": ".py",
   "mimetype": "text/x-python",
   "name": "python",
   "nbconvert_exporter": "python",
   "pygments_lexer": "ipython3",
   "version": "3.11.11"
  }
 },
 "nbformat": 4,
 "nbformat_minor": 2
}
